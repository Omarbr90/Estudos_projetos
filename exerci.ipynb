{
 "cells": [
  {
   "cell_type": "code",
   "execution_count": 1,
   "metadata": {},
   "outputs": [
    {
     "name": "stdout",
     "output_type": "stream",
     "text": [
      "Ola Mundo\n"
     ]
    }
   ],
   "source": [
    "#Escreva um programa que imprime \"Olá, Mundo!\" na tela.\n",
    "print(\"Ola Mundo\")"
   ]
  },
  {
   "cell_type": "code",
   "execution_count": 3,
   "metadata": {},
   "outputs": [
    {
     "name": "stdout",
     "output_type": "stream",
     "text": [
      "A soma dos dois números é: 16312296.0\n"
     ]
    }
   ],
   "source": [
    "#Peça ao usuário para digitar dois números e imprima a soma deles.\n",
    "def soma_dois_numeros():\n",
    "    soma = float(input(\"Digite o primeiro número: \")) + float(input(\"Digite o segundo número: \"))\n",
    "    print(\"A soma dos dois números é:\", soma)\n",
    "\n",
    "soma_dois_numeros()\n"
   ]
  },
  {
   "cell_type": "code",
   "execution_count": 5,
   "metadata": {},
   "outputs": [
    {
     "name": "stdout",
     "output_type": "stream",
     "text": [
      "Seu número é ímpar\n"
     ]
    }
   ],
   "source": [
    "#Peça ao usuário para digitar um número inteiro e informe se o número é par ou ímpar.\n",
    "nu = int(input(\"Digite um número: \"))\n",
    "print(\"Seu número é par\" if nu % 2 == 0 else \"Seu número é ímpar\")"
   ]
  },
  {
   "cell_type": "code",
   "execution_count": 7,
   "metadata": {},
   "outputs": [
    {
     "name": "stdout",
     "output_type": "stream",
     "text": [
      "O resultado é: 87802.0\n"
     ]
    }
   ],
   "source": [
    "#Crie um programa que peça dois números e a operação desejada (+, -, *, /) e exiba o resultado.\n",
    "import operator\n",
    "def calculadora():\n",
    "    num1 = float(input(\"Digite o primeiro número: \"))\n",
    "    num2 = float(input(\"Digite o segundo número: \"))\n",
    "    operacao = input(\"Digite a operação desejada (+, -, *, /): \")\n",
    "\n",
    "    operacoes = {'+': operator.add, '-': operator.sub, '*': operator.mul, '/': operator.truediv}\n",
    "    \n",
    "    if operacao in operacoes:\n",
    "        resultado = operacoes[operacao](num1, num2)\n",
    "        print(\"O resultado é:\", resultado)\n",
    "    else:\n",
    "        print(\"Operação inválida.\")\n",
    "\n",
    "calculadora()\n"
   ]
  },
  {
   "cell_type": "code",
   "execution_count": 10,
   "metadata": {},
   "outputs": [
    {
     "name": "stdout",
     "output_type": "stream",
     "text": [
      "A média das notas é: 2.4433333333333334\n"
     ]
    }
   ],
   "source": [
    "#Peça ao usuário para digitar três notas e calcule a média delas.\n",
    "def calcula_media():\n",
    "    notas = [float(input(f\"Digite a {i+1}ª nota: \")) for i in range(3)]\n",
    "    media = sum(notas) / len(notas)\n",
    "    print(\"A média das notas é:\", media)\n",
    "\n",
    "calcula_media()\n"
   ]
  },
  {
   "cell_type": "code",
   "execution_count": 11,
   "metadata": {},
   "outputs": [
    {
     "name": "stdout",
     "output_type": "stream",
     "text": [
      "80.0°C é equivalente a 176.0°F.\n"
     ]
    }
   ],
   "source": [
    "#Converter Celsius para Fahrenheit\n",
    "def celsius_para_fahrenheit(celsius):\n",
    "    return (celsius * 9/5) + 32\n",
    "\n",
    "celsius = float(input(\"Digite a temperatura em Celsius: \"))\n",
    "fahrenheit = celsius_para_fahrenheit(celsius)\n",
    "print(f\"{celsius}°C é equivalente a {fahrenheit}°F.\")\n"
   ]
  },
  {
   "cell_type": "code",
   "execution_count": 12,
   "metadata": {},
   "outputs": [
    {
     "name": "stdout",
     "output_type": "stream",
     "text": [
      "O fatorial de 8 é 40320.\n"
     ]
    }
   ],
   "source": [
    "#Peça ao usuário para digitar um número e calcule o fatorial desse número.\n",
    "import math\n",
    "\n",
    "def calcula_fatorial():\n",
    "    numero = int(input(\"Digite um número: \"))\n",
    "    fatorial = math.factorial(numero)\n",
    "    print(f\"O fatorial de {numero} é {fatorial}.\")\n",
    "\n",
    "calcula_fatorial()\n"
   ]
  },
  {
   "cell_type": "code",
   "execution_count": 13,
   "metadata": {},
   "outputs": [
    {
     "name": "stdout",
     "output_type": "stream",
     "text": [
      "Números ímpares entre 1 e 100: [1, 3, 5, 7, 9, 11, 13, 15, 17, 19, 21, 23, 25, 27, 29, 31, 33, 35, 37, 39, 41, 43, 45, 47, 49, 51, 53, 55, 57, 59, 61, 63, 65, 67, 69, 71, 73, 75, 77, 79, 81, 83, 85, 87, 89, 91, 93, 95, 97, 99]\n"
     ]
    }
   ],
   "source": [
    "#Escreva um programa que conta e imprime todos os números ímpares entre 1 e 100.\n",
    "def imprime_impares():\n",
    "    impares = [i for i in range(1, 101) if i % 2 != 0]\n",
    "    print(\"Números ímpares entre 1 e 100:\", impares)\n",
    "\n",
    "imprime_impares()\n"
   ]
  },
  {
   "cell_type": "code",
   "execution_count": 18,
   "metadata": {},
   "outputs": [
    {
     "name": "stdout",
     "output_type": "stream",
     "text": [
      "3 é um número primo.\n"
     ]
    }
   ],
   "source": [
    "#Peça ao usuário para digitar um número e verifique se ele é primo\n",
    "def e_primo(numero):\n",
    "    if numero <= 1:\n",
    "        return False\n",
    "    if numero <= 3:\n",
    "        return True\n",
    "    if numero % 2 == 0 or numero % 3 == 0:\n",
    "        return False\n",
    "    i = 5\n",
    "    while i * i <= numero:\n",
    "        if numero % i == 0 or numero % (i + 2) == 0:\n",
    "            return False\n",
    "        i += 6\n",
    "    return True\n",
    "\n",
    "numero = int(input(\"Digite um número: \"))\n",
    "if e_primo(numero):\n",
    "    print(f\"{numero} é um número primo.\")\n",
    "else:\n",
    "    print(f\"{numero} não é um número primo.\")\n"
   ]
  },
  {
   "cell_type": "code",
   "execution_count": 24,
   "metadata": {},
   "outputs": [
    {
     "name": "stdout",
     "output_type": "stream",
     "text": [
      "A palavra invertida  é: ramo\n"
     ]
    }
   ],
   "source": [
    "#Peça ao usuário para digitar uma string e imprima essa string de forma invertida.\n",
    "texto = input(\"Porfavor digite qualquer palavra ou texto  \")\n",
    "texto_invertido = texto[::-1]\n",
    "print(\"A palavra invertida  é:\", texto_invertido)\n"
   ]
  },
  {
   "cell_type": "code",
   "execution_count": 27,
   "metadata": {},
   "outputs": [
    {
     "name": "stdout",
     "output_type": "stream",
     "text": [
      "Tabuada do 14:\n",
      "14 x 1 = 14\n",
      "14 x 2 = 28\n",
      "14 x 3 = 42\n",
      "14 x 4 = 56\n",
      "14 x 5 = 70\n",
      "14 x 6 = 84\n",
      "14 x 7 = 98\n",
      "14 x 8 = 112\n",
      "14 x 9 = 126\n",
      "14 x 10 = 140\n"
     ]
    }
   ],
   "source": [
    "#Peça ao usuário para digitar um número e imprima a tabuada desse número de 1 a 10.\n",
    "numero = int(input(\"Digite um número: \"))\n",
    "print(f\"Tabuada do {numero}:\")\n",
    "for i in range(1, 11):\n",
    "    print(f\"{numero} x {i} = {numero * i}\")\n"
   ]
  },
  {
   "cell_type": "code",
   "execution_count": 28,
   "metadata": {},
   "outputs": [
    {
     "name": "stdout",
     "output_type": "stream",
     "text": [
      "O número de vogais é: 2\n"
     ]
    }
   ],
   "source": [
    "#Escreva um programa que conte o número de vogais em uma string fornecida pelo usuário.\n",
    "def conta_vogais(texto):\n",
    "    vogais = \"aeiouAEIOU\"\n",
    "    contagem = sum(1 for char in texto if char in vogais)\n",
    "    return contagem\n",
    "texto = input(\"Digite um texto ou palavra: \")\n",
    "numero_vogais = conta_vogais(texto)\n",
    "print(f\"O número de vogais é: {numero_vogais}\")\n"
   ]
  },
  {
   "cell_type": "code",
   "execution_count": 29,
   "metadata": {},
   "outputs": [
    {
     "name": "stdout",
     "output_type": "stream",
     "text": [
      "A soma dos elementos da lista é: 150\n"
     ]
    }
   ],
   "source": [
    "#Crie uma lista de números e escreva um programa que some todos os elementos dessa lista.\n",
    "numeros = [10, 20, 30, 40, 50]\n",
    "soma = sum(numeros)\n",
    "print(f\"A soma dos elementos da lista é: {soma}\")\n"
   ]
  },
  {
   "cell_type": "code",
   "execution_count": 31,
   "metadata": {},
   "outputs": [
    {
     "name": "stdout",
     "output_type": "stream",
     "text": [
      "O maior número da lista é: 9\n"
     ]
    }
   ],
   "source": [
    "#Peça ao usuário para digitar uma lista de números e exiba o maior número dessa lista.\n",
    "entrada = input(\"Digite uma lista de números separados por espaço: \")\n",
    "numeros = list(map(int, entrada.split()))\n",
    "maior_numero = max(numeros)\n",
    "print(f\"O maior número da lista é: {maior_numero}\")\n"
   ]
  },
  {
   "cell_type": "code",
   "execution_count": 32,
   "metadata": {},
   "outputs": [
    {
     "name": "stdout",
     "output_type": "stream",
     "text": [
      "Números pares na lista: [10, 32, 54, 76, 98]\n"
     ]
    }
   ],
   "source": [
    "#Dada uma lista de números, crie um programa que exiba apenas os números pares.\n",
    "numeros = [10, 21, 32, 43, 54, 65, 76, 87, 98]\n",
    "pares = [num for num in numeros if num % 2 == 0]\n",
    "print(\"Números pares na lista:\", pares)\n"
   ]
  },
  {
   "cell_type": "code",
   "execution_count": 33,
   "metadata": {},
   "outputs": [
    {
     "name": "stdout",
     "output_type": "stream",
     "text": [
      "10\n",
      "9\n",
      "8\n",
      "7\n",
      "6\n",
      "5\n",
      "4\n",
      "3\n",
      "2\n",
      "1\n",
      "0\n"
     ]
    }
   ],
   "source": [
    "#Escreva um programa que faça uma contagem regressiva de 10 a 0, imprimindo os números na tela.\n",
    "for i in range(10, -1, -1):\n",
    "    print(i)\n"
   ]
  },
  {
   "cell_type": "code",
   "execution_count": 34,
   "metadata": {},
   "outputs": [
    {
     "name": "stdout",
     "output_type": "stream",
     "text": [
      "Os primeiros 10 números da sequência de Fibonacci são: [0, 1, 1, 2, 3, 5, 8, 13, 21, 34]\n"
     ]
    }
   ],
   "source": [
    "#Escreva um programa que gera os primeiros 10 números da sequência de Fibonacci.\n",
    "def fibonacci(n):\n",
    "    fib = [0, 1]\n",
    "    while len(fib) < n:\n",
    "        fib.append(fib[-1] + fib[-2])\n",
    "    return fib\n",
    "primeiros_10_fib = fibonacci(10)\n",
    "print(\"Os primeiros 10 números da sequência de Fibonacci são:\", primeiros_10_fib)\n"
   ]
  },
  {
   "cell_type": "code",
   "execution_count": 50,
   "metadata": {},
   "outputs": [
    {
     "name": "stdout",
     "output_type": "stream",
     "text": [
      "Deu: Cara\n"
     ]
    }
   ],
   "source": [
    "#Crie um programa que simule o lançamento de uma moeda (cara ou coroa) e exiba o resultado.\n",
    "import random\n",
    "\n",
    "def lancar_moeda():\n",
    "    resultado = random.choice(['Cara', 'Coroa'])\n",
    "    return resultado\n",
    "resultado = lancar_moeda()\n",
    "print(f\"Deu: {resultado}\")\n"
   ]
  },
  {
   "cell_type": "code",
   "execution_count": 52,
   "metadata": {},
   "outputs": [
    {
     "name": "stdout",
     "output_type": "stream",
     "text": [
      "\"level\" é um palíndromo.\n"
     ]
    }
   ],
   "source": [
    "#Peça ao usuário para digitar uma palavra e verifique se ela é um palíndromo (lê-se da mesma forma de trás para frente).\n",
    "def e_palindromo(palavra):\n",
    "    palavra = palavra.replace(\" \", \"\").lower()\n",
    "    return palavra == palavra[::-1]\n",
    "entrada = input(\"Digite uma palavra: \")\n",
    "if e_palindromo(entrada):\n",
    "    print(f'\"{entrada}\" é um palíndromo.')\n",
    "else:\n",
    "    print(f'\"{entrada}\" não é um palíndromo.')\n"
   ]
  },
  {
   "cell_type": "code",
   "execution_count": 54,
   "metadata": {},
   "outputs": [
    {
     "name": "stdout",
     "output_type": "stream",
     "text": [
      "Tente adivinhar o número entre 1 e 100!\n",
      "O número escolhido é maior que o seu palpite.\n",
      "O número escolhido é maior que o seu palpite.\n",
      "O número escolhido é maior que o seu palpite.\n",
      "Você não conseguiu adivinhar o número. O número secreto era 72.\n"
     ]
    }
   ],
   "source": [
    "#Crie um programa onde o computador escolhe um número aleatório entre 1 e 100 e o usuário deve tentar adivinhar o número. O programa deve dar dicas se o número escolhido é maior ou menor que a tentativa do usuário.\n",
    "# OBS adicionei um break pois seria anteriormete sem o break o progama não parava até acertar o palpite\n",
    "import random\n",
    "\n",
    "def jogo_dotigrinho():\n",
    "    numero_secreto = random.randint(1, 100)\n",
    "    tentativa = None\n",
    "    tentativas = 0\n",
    "    max_tentativas = 3\n",
    "    \n",
    "    print(\"Tente adivinhar o número entre 1 e 100!\")\n",
    "    \n",
    "    while tentativa != numero_secreto and tentativas < max_tentativas:\n",
    "        tentativa = int(input(\"Digite o seu palpite: \"))\n",
    "        tentativas += 1\n",
    "        \n",
    "        if tentativa < numero_secreto:\n",
    "            print(\"O número escolhido é maior que o seu palpite.\")\n",
    "        elif tentativa > numero_secreto:\n",
    "            print(\"O número escolhido é menor que o seu palpite.\")\n",
    "        else:\n",
    "            print(f\"Parabéns! Você acertou o número em {tentativas} tentativas.\")\n",
    "            break\n",
    "    else:\n",
    "        print(f\"Você não conseguiu adivinhar o número. O número secreto era {numero_secreto}.\")\n",
    "\n",
    "jogo_dotigrinho()\n",
    "\n"
   ]
  }
 ],
 "metadata": {
  "kernelspec": {
   "display_name": "Python 3",
   "language": "python",
   "name": "python3"
  },
  "language_info": {
   "codemirror_mode": {
    "name": "ipython",
    "version": 3
   },
   "file_extension": ".py",
   "mimetype": "text/x-python",
   "name": "python",
   "nbconvert_exporter": "python",
   "pygments_lexer": "ipython3",
   "version": "3.12.5"
  }
 },
 "nbformat": 4,
 "nbformat_minor": 2
}
