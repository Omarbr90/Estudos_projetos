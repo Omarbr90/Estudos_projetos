{
 "cells": [
  {
   "cell_type": "code",
   "execution_count": 7,
   "metadata": {},
   "outputs": [
    {
     "name": "stdout",
     "output_type": "stream",
     "text": [
      "Seu número é par\n"
     ]
    }
   ],
   "source": [
    "nu = int(input(\"Digite um número: \"))\n",
    "print(\"Seu número é par\" if nu % 2 == 0 else \"Seu número é ímpar\")\n"
   ]
  },
  {
   "cell_type": "code",
   "execution_count": 10,
   "metadata": {},
   "outputs": [
    {
     "ename": "ValueError",
     "evalue": "invalid literal for int() with base 10: '2,3'",
     "output_type": "error",
     "traceback": [
      "\u001b[1;31m---------------------------------------------------------------------------\u001b[0m",
      "\u001b[1;31mValueError\u001b[0m                                Traceback (most recent call last)",
      "Cell \u001b[1;32mIn[10], line 5\u001b[0m\n\u001b[0;32m      2\u001b[0m li_nu \u001b[38;5;241m=\u001b[39m \u001b[38;5;28minput\u001b[39m(\u001b[38;5;124m\"\u001b[39m\u001b[38;5;124mDigite uma lista de números separados por espaço: \u001b[39m\u001b[38;5;124m\"\u001b[39m)\n\u001b[0;32m      4\u001b[0m \u001b[38;5;66;03m# Converter a string de entrada em uma lista de inteiros\u001b[39;00m\n\u001b[1;32m----> 5\u001b[0m numeros \u001b[38;5;241m=\u001b[39m \u001b[38;5;28;43mlist\u001b[39;49m\u001b[43m(\u001b[49m\u001b[38;5;28;43mmap\u001b[39;49m\u001b[43m(\u001b[49m\u001b[38;5;28;43mint\u001b[39;49m\u001b[43m,\u001b[49m\u001b[43m \u001b[49m\u001b[43mli_nu\u001b[49m\u001b[38;5;241;43m.\u001b[39;49m\u001b[43msplit\u001b[49m\u001b[43m(\u001b[49m\u001b[43m)\u001b[49m\u001b[43m)\u001b[49m\u001b[43m)\u001b[49m\n\u001b[0;32m      7\u001b[0m \u001b[38;5;66;03m# Calcular a soma dos números\u001b[39;00m\n\u001b[0;32m      8\u001b[0m soma \u001b[38;5;241m=\u001b[39m \u001b[38;5;28msum\u001b[39m(numeros)\n",
      "\u001b[1;31mValueError\u001b[0m: invalid literal for int() with base 10: '2,3'"
     ]
    }
   ],
   "source": [
    "# Solicitar ao usuário uma lista de números separados por espaço\n",
    "li_nu = input(\"Digite uma lista de números separados por espaço: \")\n",
    "\n",
    "# Converter a string de entrada em uma lista de inteiros\n",
    "numeros = list(map(int, li_nu.split()))\n",
    "\n",
    "# Calcular a soma dos números\n",
    "soma = sum(numeros)\n",
    "\n",
    "# Imprimir a soma\n",
    "print(f\"A soma dos números é: {soma}\")\n",
    "\n",
    "\n"
   ]
  }
 ],
 "metadata": {
  "kernelspec": {
   "display_name": "Python 3",
   "language": "python",
   "name": "python3"
  },
  "language_info": {
   "codemirror_mode": {
    "name": "ipython",
    "version": 3
   },
   "file_extension": ".py",
   "mimetype": "text/x-python",
   "name": "python",
   "nbconvert_exporter": "python",
   "pygments_lexer": "ipython3",
   "version": "3.12.5"
  }
 },
 "nbformat": 4,
 "nbformat_minor": 2
}
