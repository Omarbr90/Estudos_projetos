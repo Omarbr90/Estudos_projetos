{
 "cells": [
  {
   "cell_type": "code",
   "execution_count": 3,
   "metadata": {},
   "outputs": [
    {
     "name": "stdout",
     "output_type": "stream",
     "text": [
      "===== Sistema de Gerenciamento de Clientes =====\n",
      "1. Adicionar cliente\n",
      "2. Exibir todos os clientes\n",
      "3. Buscar cliente por email\n",
      "4. Remover cliente por email\n",
      "5. Sair\n",
      "===== Sistema de Gerenciamento de Clientes =====\n",
      "1. Adicionar cliente\n",
      "2. Exibir todos os clientes\n",
      "3. Buscar cliente por email\n",
      "4. Remover cliente por email\n",
      "5. Sair\n",
      "===== Sistema de Gerenciamento de Clientes =====\n",
      "1. Adicionar cliente\n",
      "2. Exibir todos os clientes\n",
      "3. Buscar cliente por email\n",
      "4. Remover cliente por email\n",
      "5. Sair\n",
      "Saindo do sistema...\n"
     ]
    }
   ],
   "source": [
    "clientes = []\n",
    "def adicionar_cliente(Nome,email,telefone,Endereço):\n",
    "    cliente = [Nome,email,telefone,Endereço]\n",
    "    clientes.append(cliente)\n",
    "    print(f\"cliente {Nome} foi adicionado com sucesso\")\n",
    "def exibir_clientes():\n",
    "     for i in range(len(clientes)):\n",
    "          cliente = clientes[i]\n",
    "          print(f\" Nome:{cliente[0]}, Email: {cliente[1]}, Telefone:{cliente[2]}, Endereço: {cliente[3]}\")\n",
    "def buscar_cliente(email):\n",
    "    for cliente in clientes:\n",
    "        if cliente[1] == email:\n",
    "            print(f\"Busca encontrada: Nome: {cliente[0]}, Email: {cliente[1]}, Telefone: {cliente[2]}, Endereço: {cliente[3]}\")\n",
    "            return\n",
    "    print(f\"O cliente com esse email {email} não foi encontrado\")\n",
    "def remover_cliente(email):\n",
    "    global clientes\n",
    "    cliente_existente = any(cliente[1] == email for cliente in clientes)\n",
    "    if cliente_existente:\n",
    "        clientes = [cliente for cliente in clientes if cliente[1] != email]\n",
    "        print(f\"O cliente com email {email} foi removido.\")\n",
    "    else:\n",
    "        print(f\"Não foi encontrado nenhum cliente com o email {email}.\")\n",
    "def menu():\n",
    "    while True:\n",
    "        print(\"===== Sistema de Gerenciamento de Clientes =====\")\n",
    "        print(\"1. Adicionar cliente\")\n",
    "        print(\"2. Exibir todos os clientes\")\n",
    "        print(\"3. Buscar cliente por email\")\n",
    "        print(\"4. Remover cliente por email\")\n",
    "        print(\"5. Sair\")\n",
    "        escolha = input(\"Escolha uma opção: \")\n",
    "\n",
    "        if escolha == \"1\":\n",
    "            Nome = input(\"Digite o nome do cliente: \")\n",
    "            email = input(\"Digite o email do cliente: \")\n",
    "            telefone = input(\"Digite o telefone do cliente: \")\n",
    "            Endereço = input(\"Digite o endereço do cliente: \")\n",
    "            adicionar_cliente(Nome, email, telefone, Endereço)\n",
    "        elif escolha == \"2\":\n",
    "            exibir_clientes()\n",
    "        elif escolha == \"3\":\n",
    "            email = input(\"Digite o email do cliente que deseja buscar: \")\n",
    "            buscar_cliente(email)\n",
    "        elif escolha == \"4\":\n",
    "            email = input(\"Digite o email do cliente que deseja remover: \")\n",
    "            remover_cliente(email)\n",
    "        elif escolha == \"5\":\n",
    "            print(\"Saindo do sistema...\")\n",
    "            break\n",
    "        else:\n",
    "            print(\"Opção inválida. Tente novamente.\\n\")\n",
    "\n",
    "menu()\n"
   ]
  }
 ],
 "metadata": {
  "kernelspec": {
   "display_name": "base",
   "language": "python",
   "name": "python3"
  },
  "language_info": {
   "codemirror_mode": {
    "name": "ipython",
    "version": 3
   },
   "file_extension": ".py",
   "mimetype": "text/x-python",
   "name": "python",
   "nbconvert_exporter": "python",
   "pygments_lexer": "ipython3",
   "version": "3.11.7"
  }
 },
 "nbformat": 4,
 "nbformat_minor": 2
}
