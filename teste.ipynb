{
 "cells": [
  {
   "cell_type": "code",
   "execution_count": 5,
   "metadata": {},
   "outputs": [
    {
     "name": "stdout",
     "output_type": "stream",
     "text": [
      "Hello Word\n"
     ]
    }
   ],
   "source": [
    "print(\"Hello Word\")"
   ]
  },
  {
   "cell_type": "code",
   "execution_count": 1,
   "metadata": {},
   "outputs": [
    {
     "name": "stdout",
     "output_type": "stream",
     "text": [
      "Seu chute foi abaixo.\n",
      "Seu chute foi abaixo.\n",
      "Seu chute foi abaixo.\n",
      "Seu chute foi acima.\n",
      "Seu chute foi abaixo.\n",
      "Seu chute foi abaixo.\n",
      "Seu chute foi abaixo.\n",
      "Seu chute foi acima.\n",
      "Seu chute foi acima.\n",
      "Seu chute foi abaixo.\n",
      "Seu chute foi abaixo.\n",
      "Você acertou o chute!\n"
     ]
    }
   ],
   "source": [
    "import random\n",
    "\n",
    "numero_aleatorio = random.randint(1,10)\n",
    "usu = None\n",
    "\n",
    "\n",
    "while usu != numero_aleatorio:\n",
    "    \n",
    "    usu = int(input(\"Chute um número de 1 a 10: \"))\n",
    "\n",
    "    \n",
    "    if usu > numero_aleatorio:\n",
    "        print(\"Seu chute foi acima.\")\n",
    "    elif usu < numero_aleatorio:\n",
    "        print(\"Seu chute foi abaixo.\")\n",
    "    else:\n",
    "        print(\"Você acertou o chute!\")\n"
   ]
  },
  {
   "cell_type": "code",
   "execution_count": 2,
   "metadata": {},
   "outputs": [
    {
     "name": "stdout",
     "output_type": "stream",
     "text": [
      "23.80952380952381\n"
     ]
    }
   ],
   "source": [
    "pr1 = int (input(\"Informe quanto vc ganha por mês?\"))\n",
    "pr2 = int (input(\"qual e o seu total de horas trabalhadas por mês?\"))\n",
    "valor_hora= pr1 / pr2\n",
    "print(valor_hora)"
   ]
  },
  {
   "cell_type": "code",
   "execution_count": 3,
   "metadata": {},
   "outputs": [
    {
     "name": "stdout",
     "output_type": "stream",
     "text": [
      "Senha: 7!s\n"
     ]
    }
   ],
   "source": [
    "import random\n",
    "import string\n",
    "\n",
    "def gerar_senha(comprimento):\n",
    "   \n",
    "    digitos = string.digits\n",
    "    letras = string.ascii_letters\n",
    "    especiais = '!@#$%&*'\n",
    "\n",
    "    \n",
    "    senha = []\n",
    "    senha.append(random.choice(digitos))\n",
    "    senha.append(random.choice(letras))\n",
    "    senha.append(random.choice(especiais))\n",
    "\n",
    "    \n",
    "    caracteres_restantes = comprimento - 3\n",
    "    todos_caracteres = digitos + letras + especiais\n",
    "    senha.extend(random.choice(todos_caracteres) for _ in range(caracteres_restantes))\n",
    "\n",
    "    \n",
    "    random.shuffle(senha)\n",
    "\n",
    "    \n",
    "    senha_str = ''.join(senha)\n",
    "    \n",
    "    return senha_str\n",
    "\n",
    "\n",
    "comprimento_senha = int(input(\"Digite o comprimento desejado para a senha: \"))\n",
    "\n",
    "\n",
    "senha_gerada = gerar_senha(comprimento_senha)\n",
    "print(f\"Senha: {senha_gerada}\")\n"
   ]
  },
  {
   "cell_type": "code",
   "execution_count": 4,
   "metadata": {},
   "outputs": [
    {
     "name": "stdout",
     "output_type": "stream",
     "text": [
      "A média das notas 7.5 e 8.0 é: 7.75\n"
     ]
    }
   ],
   "source": [
    "def calcular_media(nota1, nota2):\n",
    "  \n",
    "    media = (nota1 + nota2) / 2\n",
    "    \n",
    "  \n",
    "    print(f\"A média das notas {nota1} e {nota2} é: {media}\")\n",
    "\n",
    "\n",
    "calcular_media(7.5, 8.0)\n"
   ]
  },
  {
   "cell_type": "code",
   "execution_count": null,
   "metadata": {},
   "outputs": [],
   "source": [
    "senha_correta = 'admin123'\n",
    "\n",
    "while True:\n",
    "    senha = input(\"Digite a senha: \")\n",
    "    if senha == senha_correta:\n",
    "        print(\"Senha correta. Acesso permitido!\")\n",
    "        break  \n",
    "    else:\n",
    "        print(\"Senha incorreta. Tente novamente.\")\n",
    "\n",
    "\n",
    "print(\"bem sucedido.\")"
   ]
  },
  {
   "cell_type": "code",
   "execution_count": null,
   "metadata": {},
   "outputs": [],
   "source": [
    "quadrinhos = ['Paciência', 'Invencível', 'Umbrella Academy', 'Born again', 'Watchmen']\n",
    "\n",
    "quadrinhos.insert(1, 'Black Hammer')\n",
    "\n",
    "print(f\"Quadrinhos: {', '.join(quadrinhos)}\")"
   ]
  },
  {
   "cell_type": "code",
   "execution_count": null,
   "metadata": {},
   "outputs": [],
   "source": [
    "quadrinhos = ['Paciência', 'Invencível', 'Umbrella Academy', 'Born again', 'Watchmen']\n",
    "\n",
    "quadrinhos.remove('Paciência')\n",
    "\n",
    "print(f\"Quadrinhos: {', '.join(quadrinhos)}\")"
   ]
  },
  {
   "cell_type": "code",
   "execution_count": null,
   "metadata": {},
   "outputs": [],
   "source": [
    "alunos = ['Alberto', 'Bento', 'Carlos', 'Denis', 'Evaldo', 'Fabiano']\n",
    "notas = [10, 8, 6, 8, 2, 1]\n",
    "\n",
    "for i in range(len(alunos)):\n",
    "    print(f\"{alunos[i]}: {notas[i]}\")\n"
   ]
  },
  {
   "cell_type": "code",
   "execution_count": null,
   "metadata": {},
   "outputs": [],
   "source": [
    "for i in range (1, 11):\n",
    "    print (i)"
   ]
  }
 ],
 "metadata": {
  "kernelspec": {
   "display_name": "Python 3",
   "language": "python",
   "name": "python3"
  },
  "language_info": {
   "codemirror_mode": {
    "name": "ipython",
    "version": 3
   },
   "file_extension": ".py",
   "mimetype": "text/x-python",
   "name": "python",
   "nbconvert_exporter": "python",
   "pygments_lexer": "ipython3",
   "version": "3.12.5"
  }
 },
 "nbformat": 4,
 "nbformat_minor": 2
}
