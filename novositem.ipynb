{
 "cells": [
  {
   "cell_type": "code",
   "execution_count": 5,
   "metadata": {},
   "outputs": [
    {
     "name": "stdout",
     "output_type": "stream",
     "text": [
      "['carro ', 'moto']\n"
     ]
    }
   ],
   "source": [
    "lista=[\"carro \",\"moto\",\"bicicleta\"]\n",
    "nov=[x for x in lista if \"o\" in x]\n",
    "print(nov)"
   ]
  },
  {
   "cell_type": "code",
   "execution_count": 67,
   "metadata": {},
   "outputs": [
    {
     "name": "stdout",
     "output_type": "stream",
     "text": [
      "A tarefa 'jo' foi adicionada.\n",
      "ID: 1, Descrição: jo, Status: pendente, Prioridade: alta\n"
     ]
    },
    {
     "data": {
      "text/plain": [
       "[{'id': 1, 'descricao': 'jo', 'status': 'pendente', 'prioridade': 'alta'}]"
      ]
     },
     "execution_count": 67,
     "metadata": {},
     "output_type": "execute_result"
    }
   ],
   "source": [
    "lista_tarefas = []\n",
    "def gerar_id(lista_tarefas):\n",
    "    if not lista_tarefas:\n",
    "        return 1\n",
    "    return max(tarefa['id'] for tarefa in lista_tarefas) + 1\n",
    "def adicionar_tarefa(lista_tarefas, descricao, status, prioridade):\n",
    "    if any(tarefa['descricao'] == descricao for tarefa in lista_tarefas):\n",
    "        print(\"Essa tarefa já existe.\")\n",
    "        return\n",
    "    novo_id = gerar_id(lista_tarefas)\n",
    "    nova_tarefa = {\n",
    "        'id': novo_id,\n",
    "        'descricao': descricao,\n",
    "        'status': status,\n",
    "        'prioridade': prioridade\n",
    "    }\n",
    "    lista_tarefas.append(nova_tarefa)\n",
    "    print(f\"A tarefa '{descricao}' foi adicionada.\")\n",
    "def visualizar_tarefas(lista_tarefas):\n",
    "    if not lista_tarefas:\n",
    "        print(\"Nenhuma tarefa cadastrada.\")\n",
    "    else:\n",
    "        for tarefa in lista_tarefas:\n",
    "            print(f\"ID: {tarefa['id']}, Descrição: {tarefa['descricao']}, Status: {tarefa['status']}, Prioridade: {tarefa['prioridade']}\")\n",
    "def filtrar_tarefas(lista_tarefas, status=None, prioridade=None):\n",
    "    filtro = [\n",
    "        tarefa for tarefa in lista_tarefas\n",
    "        if (status is None or tarefa['status'] == status) and\n",
    "           (prioridade is None or tarefa['prioridade'] == prioridade)\n",
    "    ]\n",
    "    return filtro\n",
    "adicionar_tarefa(lista_tarefas,\"jo\",\"pendente\",\"alta\")\n",
    "visualizar_tarefas(lista_tarefas)\n",
    "filtrar_tarefas(lista_tarefas)"
   ]
  },
  {
   "cell_type": "code",
   "execution_count": 24,
   "metadata": {},
   "outputs": [
    {
     "name": "stdout",
     "output_type": "stream",
     "text": [
      "<built-in method items of dict object at 0x000002439AB57A40>\n",
      "{'nome': 'abacaxi', 'preco': '10,56', 'quantidade': '3'} foi adicionado à lista de produtos.\n"
     ]
    }
   ],
   "source": [
    "#1. Sistema de Controle de Estoque\n",
    "produtos={}\n",
    "def adicionar_produtos(nome, preco, quantidade):\n",
    "    for produto in produtos:\n",
    "        if produto['nome'] == nome:\n",
    "            print(f\"Esse produto ({nome}) já existe.\")\n",
    "            return\n",
    "    produto = {\n",
    "        \"nome\": nome,\n",
    "        \"preco\": preco,\n",
    "        \"quantidade\": quantidade\n",
    "    }\n",
    "    produtos.update(produto)\n",
    "    print(f\"{produto} foi adicionado à lista de produtos.\")\n",
    "def mostrasr_produtos():\n",
    "    if not produtos:\n",
    "        print(\"Não houve produto castrado\")\n",
    "        return\n",
    "print(produtos.items)\n",
    "print(f\"Nome: {nome}, Preço: {detalhes['preco']}, Quantidade: {detalhes['quantidade']}\")\n",
    "\n",
    "adicionar_produtos(\"abacaxi\",\"10,56\",\"3\")\n",
    "mostrasr_produtos()\n"
   ]
  },
  {
   "cell_type": "code",
   "execution_count": 11,
   "metadata": {},
   "outputs": [
    {
     "data": {
      "text/plain": [
       "'oiii'"
      ]
     },
     "execution_count": 11,
     "metadata": {},
     "output_type": "execute_result"
    }
   ],
   "source": [
    "\n",
    "txt= \"oiii\"\n",
    "txt.lower()"
   ]
  },
  {
   "cell_type": "code",
   "execution_count": 16,
   "metadata": {},
   "outputs": [
    {
     "name": "stdout",
     "output_type": "stream",
     "text": [
      "1\n",
      "2\n",
      "3\n"
     ]
    }
   ],
   "source": [
    "i = 1\n",
    "while i < 6:\n",
    "  print(i)\n",
    "  if i == 3:\n",
    "    break\n",
    "  i += 1"
   ]
  },
  {
   "cell_type": "code",
   "execution_count": 25,
   "metadata": {},
   "outputs": [
    {
     "name": "stdout",
     "output_type": "stream",
     "text": [
      "O produto abacaxi foi adicionado à lista de produtos.\n",
      "Lista de produtos cadastrados:\n",
      "Nome: abacaxi, Preço: 10,56, Quantidade: 3\n"
     ]
    }
   ],
   "source": [
    "# Inicializa o dicionário de produtos\n",
    "produtos = {}\n",
    "\n",
    "# Função para adicionar produtos\n",
    "def adicionar_produtos(nome, preco, quantidade):\n",
    "    # Verifica se o produto já existe no dicionário\n",
    "    if nome in produtos:\n",
    "        print(f\"Esse produto ({nome}) já existe.\")\n",
    "        return\n",
    "\n",
    "    # Cria o novo produto como um dicionário\n",
    "    produto = {\n",
    "        \"preco\": preco,\n",
    "        \"quantidade\": quantidade\n",
    "    }\n",
    "\n",
    "    # Adiciona o produto ao dicionário usando o nome como chave\n",
    "    produtos[nome] = produto\n",
    "    print(f\"O produto {nome} foi adicionado à lista de produtos.\")\n",
    "\n",
    "# Função para mostrar produtos\n",
    "def mostrar_produtos():\n",
    "    if not produtos:\n",
    "        print(\"Não há produtos cadastrados.\")\n",
    "        return\n",
    "\n",
    "    print(\"Lista de produtos cadastrados:\")\n",
    "    for nome, detalhes in produtos.items():\n",
    "        print(f\"Nome: {nome}, Preço: {detalhes['preco']}, Quantidade: {detalhes['quantidade']}\")\n",
    "\n"
   ]
  },
  {
   "cell_type": "code",
   "execution_count": 1,
   "metadata": {},
   "outputs": [
    {
     "name": "stdout",
     "output_type": "stream",
     "text": [
      "-------SISTEMA DE BIBLIOTECA-------\n",
      "1 para add livro\n",
      "2 para exibir  livro\n",
      "3 para buscar  livro\n",
      "4 para remover o livro\n",
      "5 para sair\n",
      "o livro jdjdjjd Já foi adicionado a biblioteca\n",
      "-------SISTEMA DE BIBLIOTECA-------\n",
      "1 para add livro\n",
      "2 para exibir  livro\n",
      "3 para buscar  livro\n",
      "4 para remover o livro\n",
      "5 para sair\n",
      "lista de livros:\n",
      "Titulo: jdjdjjd, Autor: jdjdjd, Ano: 3322\n",
      "-------SISTEMA DE BIBLIOTECA-------\n",
      "1 para add livro\n",
      "2 para exibir  livro\n",
      "3 para buscar  livro\n",
      "4 para remover o livro\n",
      "5 para sair\n",
      "Seu livro foi encontrado aqui estão algumas informaços sobre seu livro Titulo: jdjdjjd, Autor: jdjdjd, Ano: 3322\n",
      "-------SISTEMA DE BIBLIOTECA-------\n",
      "1 para add livro\n",
      "2 para exibir  livro\n",
      "3 para buscar  livro\n",
      "4 para remover o livro\n",
      "5 para sair\n",
      "Saindo do sistema...\n"
     ]
    }
   ],
   "source": [
    "livros={}\n",
    "def addlivro(titulo,autor,ano):\n",
    "    if titulo in livros:\n",
    "        print(\"esse livro ja existe \")\n",
    "        return\n",
    "    livro={\n",
    "        \"autor\":autor,\n",
    "        \"ano\":ano\n",
    "    }\n",
    "    livros[titulo]=livro\n",
    "    print(f\"o livro {titulo} Já foi adicionado a biblioteca\")\n",
    "def exibir_livros():\n",
    "    if not livros:\n",
    "        print(\"Não houve cadastro de livro\")\n",
    "        return\n",
    "    print(\"lista de livros:\")\n",
    "    for titulo, detalhe in livros.items():\n",
    "        print(f\"Titulo: {titulo}, Autor: {detalhe['autor']}, Ano: {detalhe['ano']}\")\n",
    "def buscar_livro(titulo):\n",
    "    if titulo  in livros:\n",
    "        jj=livros[titulo]\n",
    "        print(f\"Seu livro foi encontrado aqui estão algumas informaços sobre seu livro Titulo: {titulo}, Autor: {jj['autor']}, Ano: {jj['ano']}\")\n",
    "    else:\n",
    "        print(f\"Esse livro, {titulo} não foi encontrado\")\n",
    "def remover_livro(titulo):\n",
    "    if titulo not in livros:\n",
    "        print(\"Esse livro não existe\")\n",
    "        return\n",
    "    autor =livros.pop(titulo)\n",
    "    print(f\"O livro '{titulo}' de {autor} foi removido da biblioteca.\")\n",
    "def Menu():\n",
    "    while True:\n",
    "        print(\"-------SISTEMA DE BIBLIOTECA-------\")\n",
    "        print(\"1 para add livro\")\n",
    "        print(\"2 para exibir  livro\")\n",
    "        print(\"3 para buscar  livro\")\n",
    "        print(\"4 para remover o livro\")\n",
    "        print(\"5 para sair\")\n",
    "\n",
    "        op=input(\"escolha uma opção\")\n",
    "        if op == \"1\":\n",
    "            titulo=input(\"digite o tilulo do seu livro\")\n",
    "            autor=input(\"digite o autor do seu livro\")\n",
    "            ano=input(\"digite o ano do seu livro\")\n",
    "            addlivro(titulo,autor,ano)\n",
    "\n",
    "        elif op ==\"2\":\n",
    "            exibir_livros()\n",
    "\n",
    "        elif op ==\"3\":\n",
    "            titulo= input(\"digite o titulo do seu livro\")\n",
    "            buscar_livro(titulo)\n",
    "        \n",
    "        elif op ==\"4\":\n",
    "            titulo= input(\"digite o titulo do seu livro para remove-lo\")\n",
    "            remover_livro(titulo)\n",
    "        \n",
    "        elif op == '5':\n",
    "            print(\"Saindo do sistema...\")\n",
    "            break\n",
    "        \n",
    "        else:\n",
    "            print(\"Opção inválida, por favor escolha novamente.\")\n",
    "\n",
    "Menu()"
   ]
  }
 ],
 "metadata": {
  "kernelspec": {
   "display_name": "base",
   "language": "python",
   "name": "python3"
  },
  "language_info": {
   "codemirror_mode": {
    "name": "ipython",
    "version": 3
   },
   "file_extension": ".py",
   "mimetype": "text/x-python",
   "name": "python",
   "nbconvert_exporter": "python",
   "pygments_lexer": "ipython3",
   "version": "3.11.7"
  }
 },
 "nbformat": 4,
 "nbformat_minor": 2
}
