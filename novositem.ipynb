{
 "cells": [
  {
   "cell_type": "code",
   "execution_count": 5,
   "metadata": {},
   "outputs": [
    {
     "name": "stdout",
     "output_type": "stream",
     "text": [
      "['carro ', 'moto']\n"
     ]
    }
   ],
   "source": [
    "lista=[\"carro \",\"moto\",\"bicicleta\"]\n",
    "nov=[x for x in lista if \"o\" in x]\n",
    "print(nov)"
   ]
  },
  {
   "cell_type": "code",
   "execution_count": 67,
   "metadata": {},
   "outputs": [
    {
     "name": "stdout",
     "output_type": "stream",
     "text": [
      "A tarefa 'jo' foi adicionada.\n",
      "ID: 1, Descrição: jo, Status: pendente, Prioridade: alta\n"
     ]
    },
    {
     "data": {
      "text/plain": [
       "[{'id': 1, 'descricao': 'jo', 'status': 'pendente', 'prioridade': 'alta'}]"
      ]
     },
     "execution_count": 67,
     "metadata": {},
     "output_type": "execute_result"
    }
   ],
   "source": [
    "lista_tarefas = []\n",
    "def gerar_id(lista_tarefas):\n",
    "    if not lista_tarefas:\n",
    "        return 1\n",
    "    return max(tarefa['id'] for tarefa in lista_tarefas) + 1\n",
    "def adicionar_tarefa(lista_tarefas, descricao, status, prioridade):\n",
    "    if any(tarefa['descricao'] == descricao for tarefa in lista_tarefas):\n",
    "        print(\"Essa tarefa já existe.\")\n",
    "        return\n",
    "    novo_id = gerar_id(lista_tarefas)\n",
    "    nova_tarefa = {\n",
    "        'id': novo_id,\n",
    "        'descricao': descricao,\n",
    "        'status': status,\n",
    "        'prioridade': prioridade\n",
    "    }\n",
    "    lista_tarefas.append(nova_tarefa)\n",
    "    print(f\"A tarefa '{descricao}' foi adicionada.\")\n",
    "def visualizar_tarefas(lista_tarefas):\n",
    "    if not lista_tarefas:\n",
    "        print(\"Nenhuma tarefa cadastrada.\")\n",
    "    else:\n",
    "        for tarefa in lista_tarefas:\n",
    "            print(f\"ID: {tarefa['id']}, Descrição: {tarefa['descricao']}, Status: {tarefa['status']}, Prioridade: {tarefa['prioridade']}\")\n",
    "def filtrar_tarefas(lista_tarefas, status=None, prioridade=None):\n",
    "    filtro = [\n",
    "        tarefa for tarefa in lista_tarefas\n",
    "        if (status is None or tarefa['status'] == status) and\n",
    "           (prioridade is None or tarefa['prioridade'] == prioridade)\n",
    "    ]\n",
    "    return filtro\n",
    "adicionar_tarefa(lista_tarefas,\"jo\",\"pendente\",\"alta\")\n",
    "visualizar_tarefas(lista_tarefas)\n",
    "filtrar_tarefas(lista_tarefas)"
   ]
  }
 ],
 "metadata": {
  "kernelspec": {
   "display_name": "base",
   "language": "python",
   "name": "python3"
  },
  "language_info": {
   "codemirror_mode": {
    "name": "ipython",
    "version": 3
   },
   "file_extension": ".py",
   "mimetype": "text/x-python",
   "name": "python",
   "nbconvert_exporter": "python",
   "pygments_lexer": "ipython3",
   "version": "3.11.7"
  }
 },
 "nbformat": 4,
 "nbformat_minor": 2
}
